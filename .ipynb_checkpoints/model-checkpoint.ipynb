{
 "cells": [
  {
   "cell_type": "markdown",
   "metadata": {},
   "source": [
    "* ~~NVIDIA architecture is implemented~~\n",
    "* Images are:\n",
    "    * ~~cropped~~\n",
    "    * ~~normalised~~\n",
    "    * ~~flipped~~\n",
    "* ~~Correction based on left and right images is added~~\n",
    "* ~~Counter-clockwise driving is added~~\n",
    "* Data is augmented with turns\n",
    "* Data is augmented with recoveries\n",
    "* Second track is used for data gathering\n",
    "* More data is collected (3 times - normal, 1-2 times - recoveries, turns, etc)\n",
    "* Losses are visualised\n",
    "* ~~`fit_generator` is used for memory savings~~"
   ]
  },
  {
   "cell_type": "code",
   "execution_count": 14,
   "metadata": {},
   "outputs": [],
   "source": [
    "import csv\n",
    "import cv2\n",
    "import numpy as np\n",
    "from sklearn.utils import shuffle\n",
    "from sklearn.model_selection import train_test_split\n",
    "from skimage import io; io.use_plugin('matplotlib')\n",
    "import keras\n",
    "from keras.models import load_model\n",
    "from keras.models import Model, Sequential\n",
    "from keras.layers.core import Flatten, Dense, Dropout, Lambda\n",
    "from keras.layers.convolutional import Convolution2D, Cropping2D\n",
    "from keras.layers.pooling import AveragePooling2D, MaxPooling2D\n",
    "from keras.regularizers import l2, activity_l2\n",
    "from skimage.transform import warp, SimilarityTransform\n",
    "import matplotlib.pyplot as plt\n",
    "import random"
   ]
  },
  {
   "cell_type": "code",
   "execution_count": 22,
   "metadata": {
    "collapsed": true
   },
   "outputs": [],
   "source": [
    "data_paths = ['../images/Run/', '../images/turns/']"
   ]
  },
  {
   "cell_type": "code",
   "execution_count": 5,
   "metadata": {},
   "outputs": [],
   "source": [
    "lines = []\n",
    "for path in data_paths:\n",
    "    with open(path + 'driving_log.csv') as f:\n",
    "        reader = csv.reader(f)\n",
    "        if path == '../images/RunU/':\n",
    "            next(reader, None)\n",
    "        for line in reader:\n",
    "            lines.append(line)"
   ]
  },
  {
   "cell_type": "code",
   "execution_count": 6,
   "metadata": {},
   "outputs": [
    {
     "name": "stdout",
     "output_type": "stream",
     "text": [
      "Number of samples (3 pictures each): 13604\n"
     ]
    }
   ],
   "source": [
    "#\n",
    "# Dataset statistics:\n",
    "#\n",
    "\n",
    "# Size of dataset\n",
    "\n",
    "print(\"Number of samples (3 pictures each): {}\".format(len(lines)))"
   ]
  },
  {
   "cell_type": "code",
   "execution_count": null,
   "metadata": {
    "collapsed": true
   },
   "outputs": [],
   "source": [
    "def balance_data(samples, threshold=900):\n",
    "    y = []\n",
    "    for sample in samples:\n",
    "        angle = float(sample[3])\n",
    "        y.append(angle)\n",
    "    binwidth = 0.01\n",
    "    bins = np.arange(min(y), max(y) + binwidth, binwidth)\n",
    "    \n",
    "    plt.figure(figsize=(15,5))\n",
    "    plt.hist(y, bins)\n",
    "    plt.grid()\n",
    "    plt.show()\n",
    "    \n",
    "    hist, b = np.histogram(y, bins)\n",
    "    H = hist[hist >= threshold] # number of values per bin\n",
    "    idx = np.where(hist >= threshold)[0] # list of corresponding indices\n",
    "\n",
    "    elements_to_remove = []\n",
    "    for i, h in enumerate(H):\n",
    "        q = list(np.where((b[idx[i]+1] >= y) & (y >= b[idx[i]]))[0])\n",
    "        elements_to_remove.extend(random.sample(q, k=h-threshold))\n",
    "        \n",
    "    result = np.delete(samples, elements_to_remove, axis=0)    \n",
    "    y_res = []\n",
    "    for sample in result:\n",
    "        angle = float(sample[3])\n",
    "        y_res.append(angle)\n",
    "    plt.figure(figsize=(15,5))\n",
    "    plt.hist(y_res, bins)\n",
    "    plt.grid()\n",
    "    plt.show()\n",
    "    return result"
   ]
  },
  {
   "cell_type": "code",
   "execution_count": null,
   "metadata": {
    "collapsed": true
   },
   "outputs": [],
   "source": [
    "lines_test = balance_data(lines, threshold=50)\n",
    "print(\"Number of samples after truncation (3 pictures each): {}\".format(len(lines_test)))"
   ]
  },
  {
   "cell_type": "code",
   "execution_count": 9,
   "metadata": {
    "collapsed": true
   },
   "outputs": [],
   "source": [
    "def pre_processing(img):\n",
    "    # crop image - 65 pixels off the top and 27 off the bottom\n",
    "    new_img = img[65:133,:,:]\n",
    "    # apply gaussian blur\n",
    "    new_img = cv2.GaussianBlur(new_img, (3,3), 0)\n",
    "    # change colormap from BGR(!because opencv opens images in BGR by default) to YUV.\n",
    "    new_img = cv2.cvtColor(new_img, cv2.COLOR_BGR2YUV)\n",
    "    return new_img"
   ]
  },
  {
   "cell_type": "code",
   "execution_count": 10,
   "metadata": {
    "collapsed": true
   },
   "outputs": [],
   "source": [
    "# generator with data augmentation\n",
    "def generator(samples, batch_size=32):\n",
    "    num_samples = len(samples)\n",
    "    while True:\n",
    "        shuffle(samples)\n",
    "        for offset in range(0, num_samples, batch_size):\n",
    "            batch_samples = samples[offset:offset+batch_size]\n",
    "            images = []\n",
    "            measurements = []\n",
    "            for sample in batch_samples:\n",
    "\n",
    "            \t# find the index of '/image' in the first element of line \n",
    "                im_index = sample[0].find('/images')\n",
    "                # read center image\n",
    "                image_c = cv2.imread('..' + sample[0][im_index:])\n",
    "                # preprocess the image\n",
    "                image_c = pre_processing(image_c)\n",
    "                # read steering angle data\n",
    "                angle_c = float(sample[3])\n",
    "\n",
    "                # augmentation: flipped image, angle with the opposite sign\n",
    "                image_cf = np.fliplr(image_c)\n",
    "                angle_cf = -angle_c\n",
    "                image_a, angle_a = augmentation(image_c, angle_c)\n",
    "\n",
    "                # add images and angles to the end of the list\n",
    "                images.extend([image_c, image_a, image_cf])\n",
    "                measurements.extend([angle_c, angle_a, angle_cf])\n",
    "\n",
    "                # read left and right images \n",
    "                image_l = cv2.imread('..' + str.strip(sample[1][im_index:]))\n",
    "                image_r = cv2.imread('..' + str.strip(sample[2][im_index:]))\n",
    "                # preprocess them\n",
    "                image_l = pre_processing(image_l)   \n",
    "                image_r = pre_processing(image_r)  \n",
    "\n",
    "                # try to add robustness to turns, i.e.\n",
    "                # when steering angle is large increase/decrease\n",
    "                # angles corresponding to left and right images by \n",
    "                # a factor of 0.15 and take into account 30% of current angle\n",
    "\n",
    "                if abs(angle_c) > 0.2:\n",
    "                    angle_l = angle_c + 0.3*abs(angle_c) + 0.15\n",
    "                    angle_r = angle_c - 0.3*abs(angle_c) - 0.15\n",
    "                else: \n",
    "                \t# Not a turning case: the correction is less\n",
    "                    angle_l = angle_c + 0.1*abs(angle_c) + 0.03\n",
    "                    angle_r = angle_c - 0.1*abs(angle_c) - 0.03\n",
    "                \n",
    "                # add flipped right and left images and angles with the opposite signs\n",
    "                image_rf = np.fliplr(image_r)\n",
    "                angle_rf = -angle_r\n",
    "                image_lf = np.fliplr(image_l)\n",
    "                angle_lf = -angle_l\n",
    "\n",
    "                # add left and right data to the end of the list\n",
    "                images.extend([image_r, image_l, image_lf, image_rf])\n",
    "                measurements.extend([angle_r, angle_l, angle_lf, angle_rf])\n",
    "\n",
    "            # convert data to numpy form\n",
    "            X_train = np.array(images)\n",
    "            y_train = np.array(measurements)\n",
    "            yield shuffle(X_train, y_train)"
   ]
  },
  {
   "cell_type": "code",
   "execution_count": 11,
   "metadata": {
    "collapsed": true
   },
   "outputs": [],
   "source": [
    "# Augmentation routines\n",
    "def augmentation(image, angle):\n",
    "\t# Pick randomly number from 1 to 3 (including 3)\n",
    "    dice = np.random.randint(1,4)\n",
    "    # Translations with corresponding corrections\n",
    "    if dice == 1:\n",
    "        shift = np.random.randint(10,20)\n",
    "        temp = np.copy(image)\n",
    "        return translation(temp, t=(shift, 0)), angle - shift*0.001\n",
    "    elif dice == 2:\n",
    "        shift = np.random.randint(10,20)\n",
    "        temp = np.copy(image)\n",
    "        return translation(image, t=(-shift, 0)), angle + shift*0.001\n",
    "    elif dice == 3:\n",
    "    \t# Brightness augmentation\n",
    "        temp = np.copy(image)\n",
    "        return augment_brightness(temp), angle\n",
    "\n",
    "def augment_brightness(image):\n",
    "    a = [-20, -10, 10, 20, 30, 40, 50]\n",
    "    value = random.sample(a, 1)\n",
    "    # do this in order to avoid uint8 array overflow (taken from stackexchange)\n",
    "    image[:,:,0] = np.where((255 - image[:,:,0]) < value, 255, image[:,:,0] + value)\n",
    "    return image      \n",
    "\n",
    "def translation(X, t):\n",
    "    result = 255*warp(X, SimilarityTransform(translation=t))\n",
    "    result = result.astype(np.uint8)\n",
    "    return result"
   ]
  },
  {
   "cell_type": "code",
   "execution_count": 12,
   "metadata": {
    "collapsed": true
   },
   "outputs": [],
   "source": [
    "# split data to train and validation datasets\n",
    "train_samples, valid_samples = train_test_split(lines, test_size = 0.2)\n",
    "# create generators for training and validation\n",
    "train_generator = generator(train_samples, batch_size=128)\n",
    "valid_generator = generator(valid_samples, batch_size=128)"
   ]
  },
  {
   "cell_type": "code",
   "execution_count": 9,
   "metadata": {},
   "outputs": [
    {
     "name": "stdout",
     "output_type": "stream",
     "text": [
      "Epoch 1/10\n",
      "106981/106981 [==============================] - 127s - loss: 0.0463 - acc: 0.1347 - val_loss: 0.0355 - val_acc: 0.1268\n",
      "Epoch 2/10\n",
      "106981/106981 [==============================] - 107s - loss: 0.0315 - acc: 0.1347 - val_loss: 0.0235 - val_acc: 0.1319\n",
      "Epoch 3/10\n",
      "106981/106981 [==============================] - 109s - loss: 0.0262 - acc: 0.1347 - val_loss: 0.0240 - val_acc: 0.1342\n",
      "Epoch 4/10\n",
      "106981/106981 [==============================] - 110s - loss: 0.0235 - acc: 0.1343 - val_loss: 0.0273 - val_acc: 0.1422\n",
      "Epoch 5/10\n",
      "106981/106981 [==============================] - 108s - loss: 0.0215 - acc: 0.1355 - val_loss: 0.0236 - val_acc: 0.1306\n",
      "Epoch 6/10\n",
      "106981/106981 [==============================] - 107s - loss: 0.0201 - acc: 0.1360 - val_loss: 0.0193 - val_acc: 0.1326\n",
      "Epoch 7/10\n",
      "106981/106981 [==============================] - 107s - loss: 0.0190 - acc: 0.1359 - val_loss: 0.0155 - val_acc: 0.1333\n",
      "Epoch 8/10\n",
      "106981/106981 [==============================] - 108s - loss: 0.0181 - acc: 0.1357 - val_loss: 0.0185 - val_acc: 0.1364\n",
      "Epoch 9/10\n",
      "106981/106981 [==============================] - 108s - loss: 0.0176 - acc: 0.1354 - val_loss: 0.0234 - val_acc: 0.1413\n",
      "Epoch 10/10\n",
      "106981/106981 [==============================] - 108s - loss: 0.0170 - acc: 0.1354 - val_loss: 0.0212 - val_acc: 0.1348\n",
      "____________________________________________________________________________________________________\n",
      "Layer (type)                     Output Shape          Param #     Connected to                     \n",
      "====================================================================================================\n",
      "lambda_1 (Lambda)                (None, 68, 320, 3)    0           lambda_input_1[0][0]             \n",
      "____________________________________________________________________________________________________\n",
      "cropping2d_1 (Cropping2D)        (None, 68, 280, 3)    0           lambda_1[0][0]                   \n",
      "____________________________________________________________________________________________________\n",
      "convolution2d_1 (Convolution2D)  (None, 32, 138, 16)   1216        cropping2d_1[0][0]               \n",
      "____________________________________________________________________________________________________\n",
      "convolution2d_2 (Convolution2D)  (None, 14, 67, 32)    12832       convolution2d_1[0][0]            \n",
      "____________________________________________________________________________________________________\n",
      "convolution2d_3 (Convolution2D)  (None, 5, 32, 48)     38448       convolution2d_2[0][0]            \n",
      "____________________________________________________________________________________________________\n",
      "convolution2d_4 (Convolution2D)  (None, 3, 30, 64)     27712       convolution2d_3[0][0]            \n",
      "____________________________________________________________________________________________________\n",
      "convolution2d_5 (Convolution2D)  (None, 1, 28, 64)     36928       convolution2d_4[0][0]            \n",
      "____________________________________________________________________________________________________\n",
      "flatten_1 (Flatten)              (None, 1792)          0           convolution2d_5[0][0]            \n",
      "____________________________________________________________________________________________________\n",
      "dense_1 (Dense)                  (None, 128)           229504      flatten_1[0][0]                  \n",
      "____________________________________________________________________________________________________\n",
      "dense_2 (Dense)                  (None, 64)            8256        dense_1[0][0]                    \n",
      "____________________________________________________________________________________________________\n",
      "dense_3 (Dense)                  (None, 16)            1040        dense_2[0][0]                    \n",
      "____________________________________________________________________________________________________\n",
      "dense_4 (Dense)                  (None, 1)             17          dense_3[0][0]                    \n",
      "====================================================================================================\n",
      "Total params: 355,953\n",
      "Trainable params: 355,953\n",
      "Non-trainable params: 0\n",
      "____________________________________________________________________________________________________\n",
      "dict_keys(['acc', 'val_loss', 'val_acc', 'loss'])\n"
     ]
    },
    {
     "data": {
      "image/png": "[encoded data removed]",
      "text/plain": [
       "<matplotlib.figure.Figure at 0x7f0a922fd7f0>"
      ]
     },
     "metadata": {},
     "output_type": "display_data"
    }
   ],
   "source": [
    "# input shape is different because of cropping\n",
    "model = Sequential()\n",
    "model.add(Lambda(lambda x: (x/255.0) - 0.5, input_shape=(68, 320, 3)))\n",
    "model.add(Cropping2D(cropping=((0, 0),(20, 20))))\n",
    "model.add(Convolution2D(16, 5, 5, activation='relu', subsample=(2,2)))\n",
    "model.add(Convolution2D(32, 5, 5, activation='relu', subsample=(2,2)))\n",
    "model.add(Convolution2D(48, 5, 5, activation='relu', subsample=(2,2)))\n",
    "model.add(Convolution2D(64, 3, 3, activation='relu'))\n",
    "model.add(Convolution2D(64, 3, 3, activation='relu'))\n",
    "model.add(Flatten())\n",
    "model.add(Dense(128, W_regularizer = l2(0.0001)))\n",
    "model.add(Dense(64, W_regularizer = l2(0.0001)))\n",
    "model.add(Dense(16, W_regularizer = l2(0.0001)))\n",
    "model.add(Dense(1))\n",
    "\n",
    "adam = keras.optimizers.Adam(lr=0.001, beta_1=0.9, beta_2=0.999, epsilon=1e-8)\n",
    "model.compile(loss='mse', optimizer = adam, metrics=['accuracy'])\n",
    "history_object = model.fit_generator(train_generator, \n",
    "                    samples_per_epoch = 7*len(train_samples),\n",
    "                    nb_epoch = 10, \n",
    "                    verbose = 1,\n",
    "                    validation_data = valid_generator, \n",
    "                    nb_val_samples = len(valid_samples))\n",
    "model.summary()\n",
    "model.save('model_test.h5')\n",
    "\n",
    "### print the keys contained in the history object\n",
    "print(history_object.history.keys())\n",
    "\n",
    "### plot the training and validation loss for each epoch\n",
    "plt.plot(history_object.history['loss'])\n",
    "plt.plot(history_object.history['val_loss'])\n",
    "plt.title('model mean squared error loss')\n",
    "plt.ylabel('mean squared error loss')\n",
    "plt.xlabel('epoch')\n",
    "plt.legend(['training set', 'validation set'], loc='upper right')\n",
    "plt.show()"
   ]
  },
  {
   "cell_type": "code",
   "execution_count": 21,
   "metadata": {},
   "outputs": [
    {
     "ename": "TypeError",
     "evalue": "'NoneType' object is not subscriptable",
     "output_type": "error",
     "traceback": [
      "\u001b[0;31m---------------------------------------------------------------------------\u001b[0m",
      "\u001b[0;31mTypeError\u001b[0m                                 Traceback (most recent call last)",
      "\u001b[0;32m<ipython-input-21-e6089df03177>\u001b[0m in \u001b[0;36m<module>\u001b[0;34m()\u001b[0m\n\u001b[0;32m----> 1\u001b[0;31m \u001b[0;34m[\u001b[0m\u001b[0mimg\u001b[0m\u001b[0;34m,\u001b[0m \u001b[0mang\u001b[0m\u001b[0;34m]\u001b[0m \u001b[0;34m=\u001b[0m \u001b[0mnext\u001b[0m\u001b[0;34m(\u001b[0m\u001b[0mtrain_generator\u001b[0m\u001b[0;34m)\u001b[0m\u001b[0;34m\u001b[0m\u001b[0m\n\u001b[0m\u001b[1;32m      2\u001b[0m \u001b[0mprint\u001b[0m\u001b[0;34m(\u001b[0m\u001b[0mimg\u001b[0m\u001b[0;34m.\u001b[0m\u001b[0mshape\u001b[0m\u001b[0;34m)\u001b[0m\u001b[0;34m\u001b[0m\u001b[0m\n\u001b[1;32m      3\u001b[0m \u001b[0;34m\u001b[0m\u001b[0m\n\u001b[1;32m      4\u001b[0m \u001b[0mplt\u001b[0m\u001b[0;34m.\u001b[0m\u001b[0mfigure\u001b[0m\u001b[0;34m(\u001b[0m\u001b[0mfigsize\u001b[0m\u001b[0;34m=\u001b[0m\u001b[0;34m(\u001b[0m\u001b[0;36m15\u001b[0m\u001b[0;34m,\u001b[0m\u001b[0;36m5\u001b[0m\u001b[0;34m)\u001b[0m\u001b[0;34m)\u001b[0m\u001b[0;34m\u001b[0m\u001b[0m\n\u001b[1;32m      5\u001b[0m \u001b[0mplt\u001b[0m\u001b[0;34m.\u001b[0m\u001b[0mplot\u001b[0m\u001b[0;34m(\u001b[0m\u001b[0mang\u001b[0m\u001b[0;34m)\u001b[0m\u001b[0;34m\u001b[0m\u001b[0m\n",
      "\u001b[0;32m<ipython-input-10-671c8df0136e>\u001b[0m in \u001b[0;36mgenerator\u001b[0;34m(samples, batch_size)\u001b[0m\n\u001b[1;32m     15\u001b[0m                 \u001b[0mimage_c\u001b[0m \u001b[0;34m=\u001b[0m \u001b[0mcv2\u001b[0m\u001b[0;34m.\u001b[0m\u001b[0mimread\u001b[0m\u001b[0;34m(\u001b[0m\u001b[0;34m'..'\u001b[0m \u001b[0;34m+\u001b[0m \u001b[0msample\u001b[0m\u001b[0;34m[\u001b[0m\u001b[0;36m0\u001b[0m\u001b[0;34m]\u001b[0m\u001b[0;34m[\u001b[0m\u001b[0mim_index\u001b[0m\u001b[0;34m:\u001b[0m\u001b[0;34m]\u001b[0m\u001b[0;34m)\u001b[0m\u001b[0;34m\u001b[0m\u001b[0m\n\u001b[1;32m     16\u001b[0m                 \u001b[0;31m# preprocess the image\u001b[0m\u001b[0;34m\u001b[0m\u001b[0;34m\u001b[0m\u001b[0m\n\u001b[0;32m---> 17\u001b[0;31m                 \u001b[0mimage_c\u001b[0m \u001b[0;34m=\u001b[0m \u001b[0mpre_processing\u001b[0m\u001b[0;34m(\u001b[0m\u001b[0mimage_c\u001b[0m\u001b[0;34m)\u001b[0m\u001b[0;34m\u001b[0m\u001b[0m\n\u001b[0m\u001b[1;32m     18\u001b[0m                 \u001b[0;31m# read steering angle data\u001b[0m\u001b[0;34m\u001b[0m\u001b[0;34m\u001b[0m\u001b[0m\n\u001b[1;32m     19\u001b[0m                 \u001b[0mangle_c\u001b[0m \u001b[0;34m=\u001b[0m \u001b[0mfloat\u001b[0m\u001b[0;34m(\u001b[0m\u001b[0msample\u001b[0m\u001b[0;34m[\u001b[0m\u001b[0;36m3\u001b[0m\u001b[0;34m]\u001b[0m\u001b[0;34m)\u001b[0m\u001b[0;34m\u001b[0m\u001b[0m\n",
      "\u001b[0;32m<ipython-input-9-3568fa15cc84>\u001b[0m in \u001b[0;36mpre_processing\u001b[0;34m(img)\u001b[0m\n\u001b[1;32m      1\u001b[0m \u001b[0;32mdef\u001b[0m \u001b[0mpre_processing\u001b[0m\u001b[0;34m(\u001b[0m\u001b[0mimg\u001b[0m\u001b[0;34m)\u001b[0m\u001b[0;34m:\u001b[0m\u001b[0;34m\u001b[0m\u001b[0m\n\u001b[1;32m      2\u001b[0m     \u001b[0;31m# crop image - 65 pixels off the top and 27 off the bottom\u001b[0m\u001b[0;34m\u001b[0m\u001b[0;34m\u001b[0m\u001b[0m\n\u001b[0;32m----> 3\u001b[0;31m     \u001b[0mnew_img\u001b[0m \u001b[0;34m=\u001b[0m \u001b[0mimg\u001b[0m\u001b[0;34m[\u001b[0m\u001b[0;36m65\u001b[0m\u001b[0;34m:\u001b[0m\u001b[0;36m133\u001b[0m\u001b[0;34m,\u001b[0m\u001b[0;34m:\u001b[0m\u001b[0;34m,\u001b[0m\u001b[0;34m:\u001b[0m\u001b[0;34m]\u001b[0m\u001b[0;34m\u001b[0m\u001b[0m\n\u001b[0m\u001b[1;32m      4\u001b[0m     \u001b[0;31m# apply gaussian blur\u001b[0m\u001b[0;34m\u001b[0m\u001b[0;34m\u001b[0m\u001b[0m\n\u001b[1;32m      5\u001b[0m     \u001b[0mnew_img\u001b[0m \u001b[0;34m=\u001b[0m \u001b[0mcv2\u001b[0m\u001b[0;34m.\u001b[0m\u001b[0mGaussianBlur\u001b[0m\u001b[0;34m(\u001b[0m\u001b[0mnew_img\u001b[0m\u001b[0;34m,\u001b[0m \u001b[0;34m(\u001b[0m\u001b[0;36m3\u001b[0m\u001b[0;34m,\u001b[0m\u001b[0;36m3\u001b[0m\u001b[0;34m)\u001b[0m\u001b[0;34m,\u001b[0m \u001b[0;36m0\u001b[0m\u001b[0;34m)\u001b[0m\u001b[0;34m\u001b[0m\u001b[0m\n",
      "\u001b[0;31mTypeError\u001b[0m: 'NoneType' object is not subscriptable"
     ]
    }
   ],
   "source": [
    "[img, ang] = next(train_generator)\n",
    "print(img.shape)\n",
    "\n",
    "plt.figure(figsize=(15,5))\n",
    "plt.plot(ang)\n",
    "plt.show()\n",
    "\n",
    "binwidth = 0.01\n",
    "plt.figure(figsize=(15,5))\n",
    "plt.hist(ang, bins=np.arange(min(ang), max(ang) + binwidth, binwidth))\n",
    "plt.show()"
   ]
  },
  {
   "cell_type": "code",
   "execution_count": 13,
   "metadata": {
    "collapsed": true
   },
   "outputs": [],
   "source": [
    "# Generator to generate images for test of obtained model\n",
    "\n",
    "def generator_test(samples, batch_size=2048):\n",
    "    num_samples = len(samples)\n",
    "    while True:\n",
    "        for offset in range(0, num_samples, batch_size):\n",
    "            batch_samples = samples[offset:offset+batch_size]\n",
    "            images = []\n",
    "            measurements = []\n",
    "            for sample in batch_samples:\n",
    "                im_index = sample[0].find('/images')\n",
    "                \n",
    "                if im_index < 0:\n",
    "                    image_c = cv2.imread('../images/RunU/' + str.strip(sample[0]))\n",
    "                else:\n",
    "                    image_c = cv2.imread('..' + sample[0][im_index:])\n",
    "                image_c = pre_processing(image_c)\n",
    "                angle_c = float(sample[3])\n",
    "                images.append(image_c)\n",
    "                measurements.append(angle_c)\n",
    "                \n",
    "            X_train = np.array(images)\n",
    "            y_train = np.array(measurements)\n",
    "            yield X_train, y_train"
   ]
  },
  {
   "cell_type": "code",
   "execution_count": 19,
   "metadata": {},
   "outputs": [],
   "source": [
    "# Ensure model is defined\n",
    "try:\n",
    "    model\n",
    "except NameError:\n",
    "    model = None\n",
    "\n",
    "if model is None:\n",
    "\tmodel = load_model('model.h5')\n",
    "\n",
    "data_paths_tester = ['../../_current/images/Run/']\n",
    "lines_tester = []\n",
    "for path in data_paths_tester:\n",
    "    with open(path + 'driving_log.csv') as f:\n",
    "        reader = csv.reader(f)\n",
    "        for line in reader:\n",
    "            lines_tester.append(line)\n",
    "tester = generator_test(lines_tester)"
   ]
  },
  {
   "cell_type": "code",
   "execution_count": 20,
   "metadata": {},
   "outputs": [
    {
     "ename": "TypeError",
     "evalue": "'NoneType' object is not subscriptable",
     "output_type": "error",
     "traceback": [
      "\u001b[0;31m---------------------------------------------------------------------------\u001b[0m",
      "\u001b[0;31mTypeError\u001b[0m                                 Traceback (most recent call last)",
      "\u001b[0;32m<ipython-input-20-261180875fc2>\u001b[0m in \u001b[0;36m<module>\u001b[0;34m()\u001b[0m\n\u001b[0;32m----> 1\u001b[0;31m \u001b[0;34m[\u001b[0m\u001b[0mimgs\u001b[0m\u001b[0;34m,\u001b[0m \u001b[0mang\u001b[0m\u001b[0;34m]\u001b[0m \u001b[0;34m=\u001b[0m \u001b[0mnext\u001b[0m\u001b[0;34m(\u001b[0m\u001b[0mtester\u001b[0m\u001b[0;34m)\u001b[0m\u001b[0;34m\u001b[0m\u001b[0m\n\u001b[0m\u001b[1;32m      2\u001b[0m \u001b[0;32mfor\u001b[0m \u001b[0mimg\u001b[0m \u001b[0;32min\u001b[0m \u001b[0mimgs\u001b[0m\u001b[0;34m:\u001b[0m\u001b[0;34m\u001b[0m\u001b[0m\n\u001b[1;32m      3\u001b[0m     \u001b[0mimg\u001b[0m \u001b[0;34m=\u001b[0m \u001b[0mpre_processing\u001b[0m\u001b[0;34m(\u001b[0m\u001b[0mimg\u001b[0m\u001b[0;34m)\u001b[0m\u001b[0;34m\u001b[0m\u001b[0m\n\u001b[1;32m      4\u001b[0m \u001b[0mang_predict\u001b[0m \u001b[0;34m=\u001b[0m \u001b[0mmodel\u001b[0m\u001b[0;34m.\u001b[0m\u001b[0mpredict\u001b[0m\u001b[0;34m(\u001b[0m\u001b[0mimgs\u001b[0m\u001b[0;34m)\u001b[0m\u001b[0;34m\u001b[0m\u001b[0m\n\u001b[1;32m      5\u001b[0m \u001b[0mplt\u001b[0m\u001b[0;34m.\u001b[0m\u001b[0mfigure\u001b[0m\u001b[0;34m(\u001b[0m\u001b[0mfigsize\u001b[0m\u001b[0;34m=\u001b[0m\u001b[0;34m(\u001b[0m\u001b[0;36m15\u001b[0m\u001b[0;34m,\u001b[0m\u001b[0;36m5\u001b[0m\u001b[0;34m)\u001b[0m\u001b[0;34m)\u001b[0m\u001b[0;34m\u001b[0m\u001b[0m\n",
      "\u001b[0;32m<ipython-input-13-918b58e0c0a5>\u001b[0m in \u001b[0;36mgenerator_test\u001b[0;34m(samples, batch_size)\u001b[0m\n\u001b[1;32m     15\u001b[0m                 \u001b[0;32melse\u001b[0m\u001b[0;34m:\u001b[0m\u001b[0;34m\u001b[0m\u001b[0m\n\u001b[1;32m     16\u001b[0m                     \u001b[0mimage_c\u001b[0m \u001b[0;34m=\u001b[0m \u001b[0mcv2\u001b[0m\u001b[0;34m.\u001b[0m\u001b[0mimread\u001b[0m\u001b[0;34m(\u001b[0m\u001b[0;34m'..'\u001b[0m \u001b[0;34m+\u001b[0m \u001b[0msample\u001b[0m\u001b[0;34m[\u001b[0m\u001b[0;36m0\u001b[0m\u001b[0;34m]\u001b[0m\u001b[0;34m[\u001b[0m\u001b[0mim_index\u001b[0m\u001b[0;34m:\u001b[0m\u001b[0;34m]\u001b[0m\u001b[0;34m)\u001b[0m\u001b[0;34m\u001b[0m\u001b[0m\n\u001b[0;32m---> 17\u001b[0;31m                 \u001b[0mimage_c\u001b[0m \u001b[0;34m=\u001b[0m \u001b[0mpre_processing\u001b[0m\u001b[0;34m(\u001b[0m\u001b[0mimage_c\u001b[0m\u001b[0;34m)\u001b[0m\u001b[0;34m\u001b[0m\u001b[0m\n\u001b[0m\u001b[1;32m     18\u001b[0m                 \u001b[0mangle_c\u001b[0m \u001b[0;34m=\u001b[0m \u001b[0mfloat\u001b[0m\u001b[0;34m(\u001b[0m\u001b[0msample\u001b[0m\u001b[0;34m[\u001b[0m\u001b[0;36m3\u001b[0m\u001b[0;34m]\u001b[0m\u001b[0;34m)\u001b[0m\u001b[0;34m\u001b[0m\u001b[0m\n\u001b[1;32m     19\u001b[0m                 \u001b[0mimages\u001b[0m\u001b[0;34m.\u001b[0m\u001b[0mappend\u001b[0m\u001b[0;34m(\u001b[0m\u001b[0mimage_c\u001b[0m\u001b[0;34m)\u001b[0m\u001b[0;34m\u001b[0m\u001b[0m\n",
      "\u001b[0;32m<ipython-input-9-3568fa15cc84>\u001b[0m in \u001b[0;36mpre_processing\u001b[0;34m(img)\u001b[0m\n\u001b[1;32m      1\u001b[0m \u001b[0;32mdef\u001b[0m \u001b[0mpre_processing\u001b[0m\u001b[0;34m(\u001b[0m\u001b[0mimg\u001b[0m\u001b[0;34m)\u001b[0m\u001b[0;34m:\u001b[0m\u001b[0;34m\u001b[0m\u001b[0m\n\u001b[1;32m      2\u001b[0m     \u001b[0;31m# crop image - 65 pixels off the top and 27 off the bottom\u001b[0m\u001b[0;34m\u001b[0m\u001b[0;34m\u001b[0m\u001b[0m\n\u001b[0;32m----> 3\u001b[0;31m     \u001b[0mnew_img\u001b[0m \u001b[0;34m=\u001b[0m \u001b[0mimg\u001b[0m\u001b[0;34m[\u001b[0m\u001b[0;36m65\u001b[0m\u001b[0;34m:\u001b[0m\u001b[0;36m133\u001b[0m\u001b[0;34m,\u001b[0m\u001b[0;34m:\u001b[0m\u001b[0;34m,\u001b[0m\u001b[0;34m:\u001b[0m\u001b[0;34m]\u001b[0m\u001b[0;34m\u001b[0m\u001b[0m\n\u001b[0m\u001b[1;32m      4\u001b[0m     \u001b[0;31m# apply gaussian blur\u001b[0m\u001b[0;34m\u001b[0m\u001b[0;34m\u001b[0m\u001b[0m\n\u001b[1;32m      5\u001b[0m     \u001b[0mnew_img\u001b[0m \u001b[0;34m=\u001b[0m \u001b[0mcv2\u001b[0m\u001b[0;34m.\u001b[0m\u001b[0mGaussianBlur\u001b[0m\u001b[0;34m(\u001b[0m\u001b[0mnew_img\u001b[0m\u001b[0;34m,\u001b[0m \u001b[0;34m(\u001b[0m\u001b[0;36m3\u001b[0m\u001b[0;34m,\u001b[0m\u001b[0;36m3\u001b[0m\u001b[0;34m)\u001b[0m\u001b[0;34m,\u001b[0m \u001b[0;36m0\u001b[0m\u001b[0;34m)\u001b[0m\u001b[0;34m\u001b[0m\u001b[0m\n",
      "\u001b[0;31mTypeError\u001b[0m: 'NoneType' object is not subscriptable"
     ]
    }
   ],
   "source": [
    "[imgs, ang] = next(tester)\n",
    "for img in imgs:\n",
    "    img = pre_processing(img)\n",
    "ang_predict = model.predict(imgs)\n",
    "plt.figure(figsize=(15,5))\n",
    "plt.plot(ang)\n",
    "plt.plot(ang_predict)\n",
    "plt.grid()\n",
    "plt.show()"
   ]
  },
  {
   "cell_type": "code",
   "execution_count": 44,
   "metadata": {},
   "outputs": [
    {
     "data": {
      "image/png": "[encoded data removed]",
      "text/plain": [
       "<matplotlib.figure.Figure at 0x7f4f8008a390>"
      ]
     },
     "metadata": {},
     "output_type": "display_data"
    }
   ],
   "source": [
    "plt.figure(figsize=(15,5))\n",
    "plt.imshow(imgs[600])\n",
    "plt.show()"
   ]
  }
 ],
 "metadata": {
  "kernelspec": {
   "display_name": "Python 3",
   "language": "python",
   "name": "python3"
  },
  "language_info": {
   "codemirror_mode": {
    "name": "ipython",
    "version": 3
   },
   "file_extension": ".py",
   "mimetype": "text/x-python",
   "name": "python",
   "nbconvert_exporter": "python",
   "pygments_lexer": "ipython3",
   "version": "3.5.2"
  },
  "varInspector": {
   "cols": {
    "lenName": 16,
    "lenType": 16,
    "lenVar": 40
   },
   "kernels_config": {
    "python": {
     "delete_cmd_postfix": "",
     "delete_cmd_prefix": "del ",
     "library": "var_list.py",
     "varRefreshCmd": "print(var_dic_list())"
    },
    "r": {
     "delete_cmd_postfix": ") ",
     "delete_cmd_prefix": "rm(",
     "library": "var_list.r",
     "varRefreshCmd": "cat(var_dic_list()) "
    }
   },
   "types_to_exclude": [
    "module",
    "function",
    "builtin_function_or_method",
    "instance",
    "_Feature"
   ],
   "window_display": false
  },
  "widgets": {
   "state": {},
   "version": "1.1.2"
  }
 },
 "nbformat": 4,
 "nbformat_minor": 2
}
